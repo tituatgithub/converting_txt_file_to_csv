{
  "nbformat": 4,
  "nbformat_minor": 0,
  "metadata": {
    "colab": {
      "provenance": []
    },
    "kernelspec": {
      "name": "python3",
      "display_name": "Python 3"
    },
    "language_info": {
      "name": "python"
    }
  },
  "cells": [
    {
      "cell_type": "code",
      "source": [
        "import pandas as pd\n",
        "\n",
        "# Path to your text file\n",
        "txt_file = \"/content/Sarcasm_tweets_with_language.txt\"\n",
        "csv_file = \"/content/Sarcasm_tweets_with_language.csv\"\n",
        "\n",
        "# Initialize storage\n",
        "tweets = {}\n",
        "\n",
        "with open(txt_file, \"r\", encoding=\"utf-8\") as file:\n",
        "    current_id = None\n",
        "    words, langs = [], []\n",
        "\n",
        "    for line in file:\n",
        "        line = line.strip()\n",
        "\n",
        "        # If the line is a Tweet ID (numeric), start a new tweet\n",
        "        if line.isdigit():\n",
        "            if current_id:  # Store the previous tweet\n",
        "                tweets[current_id] = {\"Text\": \" \".join(words), \"Languages\": \" \".join(langs)}\n",
        "            current_id = line\n",
        "            words, langs = [], []\n",
        "        else:\n",
        "            parts = line.rsplit(\" \", 1)  # Split word and lang\n",
        "            if len(parts) == 2:\n",
        "                word, lang = parts\n",
        "                words.append(word)\n",
        "                langs.append(lang)\n",
        "\n",
        "    # Store the last tweet\n",
        "    if current_id:\n",
        "        tweets[current_id] = {\"Text\": \" \".join(words), \"Languages\": \" \".join(langs)}\n",
        "\n",
        "# Convert to DataFrame\n",
        "df = pd.DataFrame.from_dict(tweets, orient=\"index\").reset_index()\n",
        "df.columns = [\"Tweet ID\", \"Text\", \"Languages\"]\n",
        "\n",
        "# Save to CSV\n",
        "df.to_csv(csv_file, index=False, encoding=\"utf-8\")\n",
        "\n",
        "print(f\"✅ CSV file saved at {csv_file}\")\n"
      ],
      "metadata": {
        "colab": {
          "base_uri": "https://localhost:8080/"
        },
        "id": "uihx8_Vqi7La",
        "outputId": "839277c4-892e-42d6-eaf6-1a95f7399616"
      },
      "execution_count": 3,
      "outputs": [
        {
          "output_type": "stream",
          "name": "stdout",
          "text": [
            "✅ CSV file saved at /content/Sarcasm_tweets_with_language.csv\n"
          ]
        }
      ]
    },
    {
      "cell_type": "code",
      "source": [
        "import pandas as pd\n",
        "from collections import Counter\n",
        "\n",
        "# Load your CSV file\n",
        "csv_file = \"/content/Sarcasm_tweets_with_language.csv\"  # Update the path if needed\n",
        "df = pd.read_csv(csv_file)\n",
        "\n",
        "# Function to calculate CMI for each tweet\n",
        "def calculate_cmi(langs):\n",
        "    lang_counts = Counter(langs.split())  # Count occurrences of each language\n",
        "    N = sum(lang_counts.values())  # Total number of words\n",
        "    f_m = max(lang_counts.values())  # Frequency of the most used language\n",
        "    u = 0  # Unique word correction (usually 0)\n",
        "\n",
        "    if N == u:  # Avoid division by zero\n",
        "        return 0\n",
        "\n",
        "    return round((1 - (f_m / (N - u))) * 100, 2)\n",
        "\n",
        "# Apply function to calculate CMI for each tweet\n",
        "df[\"CMI\"] = df[\"Languages\"].apply(calculate_cmi)\n",
        "\n",
        "# Save the updated CSV file\n",
        "df.to_csv(\"/content/Sarcasm_tweets_with_cmi.csv\", index=False, encoding=\"utf-8\")\n",
        "\n",
        "print(\"✅ CMI calculated and saved successfully!\")\n"
      ],
      "metadata": {
        "colab": {
          "base_uri": "https://localhost:8080/"
        },
        "id": "BdEnwjEWjNEl",
        "outputId": "451df619-1c00-49ff-e59d-0472212f2cb8"
      },
      "execution_count": 4,
      "outputs": [
        {
          "output_type": "stream",
          "name": "stdout",
          "text": [
            "✅ CMI calculated and saved successfully!\n"
          ]
        }
      ]
    },
    {
      "cell_type": "code",
      "source": [],
      "metadata": {
        "id": "vNPq73J2kLve"
      },
      "execution_count": null,
      "outputs": []
    }
  ]
}